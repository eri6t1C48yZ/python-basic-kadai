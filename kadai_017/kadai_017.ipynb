{
  "nbformat": 4,
  "nbformat_minor": 0,
  "metadata": {
    "colab": {
      "provenance": []
    },
    "kernelspec": {
      "name": "python3",
      "display_name": "Python 3"
    },
    "language_info": {
      "name": "python"
    }
  },
  "cells": [
    {
      "cell_type": "code",
      "execution_count": 12,
      "metadata": {
        "colab": {
          "base_uri": "https://localhost:8080/"
        },
        "id": "bOAq2MzHeloF",
        "outputId": "37681a24-e2a0-4535-b856-5367be3ec6d2"
      },
      "outputs": [
        {
          "output_type": "stream",
          "name": "stdout",
          "text": [
            "大人である\n",
            "大人である\n",
            "大人ではない\n"
          ]
        }
      ],
      "source": [
        "class Human:\n",
        "  def __init__(self,name,age):\n",
        "    self.name = name\n",
        "    self.age = age\n",
        "\n",
        "  def check_adult(self):\n",
        "    if self.age >= 20:\n",
        "      print(\"大人である\")\n",
        "    else:\n",
        "      print(\"大人ではない\")\n",
        "\n",
        "samuraiTaro = Human(\"侍太郎\",36)\n",
        "samuraiHanako = Human(\"侍花子\",20)\n",
        "samuraiGoro = Human(\"侍五郎\",19)\n",
        "\n",
        "user_names = [samuraiTaro,samuraiHanako,samuraiGoro]\n",
        "\n",
        "for user_name in user_names:\n",
        "    user_name.check_adult()"
      ]
    }
  ]
}