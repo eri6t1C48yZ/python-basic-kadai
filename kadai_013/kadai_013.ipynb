{
  "nbformat": 4,
  "nbformat_minor": 0,
  "metadata": {
    "colab": {
      "provenance": []
    },
    "kernelspec": {
      "name": "python3",
      "display_name": "Python 3"
    },
    "language_info": {
      "name": "python"
    }
  },
  "cells": [
    {
      "cell_type": "code",
      "execution_count": 20,
      "metadata": {
        "colab": {
          "base_uri": "https://localhost:8080/"
        },
        "id": "8dM9EOw358Bd",
        "outputId": "03c1e1df-321d-453f-94de-e43e6005d7dd"
      },
      "outputs": [
        {
          "output_type": "stream",
          "name": "stdout",
          "text": [
            "1100.0円\n"
          ]
        }
      ],
      "source": [
        "def purchased(price,tax):\n",
        "  total = price * (1 + tax)\n",
        "  print(f\"{total}円\")\n",
        "\n",
        "purchased(1000,0.1)\n"
      ]
    }
  ]
}