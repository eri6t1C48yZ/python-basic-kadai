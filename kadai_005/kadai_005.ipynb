{
  "nbformat": 4,
  "nbformat_minor": 0,
  "metadata": {
    "colab": {
      "provenance": []
    },
    "kernelspec": {
      "name": "python3",
      "display_name": "Python 3"
    },
    "language_info": {
      "name": "python"
    }
  },
  "cells": [
    {
      "cell_type": "code",
      "execution_count": 6,
      "metadata": {
        "colab": {
          "base_uri": "https://localhost:8080/"
        },
        "id": "k1Pn3wdJHvrG",
        "outputId": "fd5f4e97-059c-4274-b178-bd49c696ae6b"
      },
      "outputs": [
        {
          "output_type": "stream",
          "name": "stdout",
          "text": [
            "75.0 cm²\n"
          ]
        }
      ],
      "source": [
        "jyohen = 10\n",
        "kahen = 20\n",
        "takasa =5\n",
        "menseki = ((jyohen+kahen)*takasa)/2\n",
        "\n",
        "print(menseki,'cm²')\n"
      ]
    }
  ]
}