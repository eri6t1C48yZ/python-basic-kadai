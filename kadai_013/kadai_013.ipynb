{
  "nbformat": 4,
  "nbformat_minor": 0,
  "metadata": {
    "colab": {
      "provenance": []
    },
    "kernelspec": {
      "name": "python3",
      "display_name": "Python 3"
    },
    "language_info": {
      "name": "python"
    }
  },
  "cells": [
    {
      "cell_type": "code",
      "execution_count": 19,
      "metadata": {
        "colab": {
          "base_uri": "https://localhost:8080/"
        },
        "id": "8dM9EOw358Bd",
        "outputId": "d12ea2cd-e498-4477-b2aa-b4d99eb2bbc0"
      },
      "outputs": [
        {
          "output_type": "stream",
          "name": "stdout",
          "text": [
            "1100.0円\n"
          ]
        }
      ],
      "source": [
        "def purchased(price,tax)->int:\n",
        "  total = price * (1 + tax)\n",
        "  print(f\"{total}円\")\n",
        "\n",
        "purchased(1000,0.1)\n"
      ]
    }
  ]
}