{
  "nbformat": 4,
  "nbformat_minor": 0,
  "metadata": {
    "colab": {
      "provenance": []
    },
    "kernelspec": {
      "name": "python3",
      "display_name": "Python 3"
    },
    "language_info": {
      "name": "python"
    }
  },
  "cells": [
    {
      "cell_type": "code",
      "execution_count": 34,
      "metadata": {
        "colab": {
          "base_uri": "https://localhost:8080/"
        },
        "id": "8dM9EOw358Bd",
        "outputId": "d25a4db8-2673-4e92-850f-e6cc9d206587"
      },
      "outputs": [
        {
          "output_type": "stream",
          "name": "stdout",
          "text": [
            "1100.0\n"
          ]
        }
      ],
      "source": [
        "def purchased(price,tax):\n",
        "  total = price * (1 + tax)\n",
        "  return total\n",
        "\n",
        "total = purchased (1000,0.1)\n",
        "print(total)\n"
      ]
    }
  ]
}