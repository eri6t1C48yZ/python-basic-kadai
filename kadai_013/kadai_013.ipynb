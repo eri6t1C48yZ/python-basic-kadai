{
  "nbformat": 4,
  "nbformat_minor": 0,
  "metadata": {
    "colab": {
      "provenance": []
    },
    "kernelspec": {
      "name": "python3",
      "display_name": "Python 3"
    },
    "language_info": {
      "name": "python"
    }
  },
  "cells": [
    {
      "cell_type": "code",
      "execution_count": 25,
      "metadata": {
        "colab": {
          "base_uri": "https://localhost:8080/"
        },
        "id": "8dM9EOw358Bd",
        "outputId": "6db1e427-23a2-45f8-dad7-10f39a0e0a55"
      },
      "outputs": [
        {
          "output_type": "stream",
          "name": "stdout",
          "text": [
            "1100.0\n"
          ]
        }
      ],
      "source": [
        "def purchased(price,tax):\n",
        "  total = price * (1 + tax)\n",
        "  print(total)\n",
        "\n",
        "purchased(1000,0.1)\n"
      ]
    }
  ]
}